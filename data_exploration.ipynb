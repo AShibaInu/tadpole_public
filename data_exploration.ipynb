{
 "cells": [
  {
   "cell_type": "markdown",
   "metadata": {},
   "source": [
    "### Libraries"
   ]
  },
  {
   "cell_type": "code",
   "execution_count": 1,
   "metadata": {
    "collapsed": true,
    "scrolled": true
   },
   "outputs": [],
   "source": [
    "from tools import *\n",
    "from torch.autograd import Variable, Function\n",
    "import torch\n",
    "import math\n",
    "import numpy as np\n",
    "import torchvision\n",
    "import pandas as pd\n",
    "import torch.nn as nn\n",
    "import nibabel as nib\n",
    "import torch.optim as optim\n",
    "import matplotlib.pyplot as plt\n",
    "import torch.nn.functional as F\n",
    "import torch.utils.data as data_utils\n",
    "import torch.optim.lr_scheduler as schd  \n",
    "import torchvision.transforms as transforms\n",
    "%matplotlib inline"
   ]
  },
  {
   "cell_type": "markdown",
   "metadata": {},
   "source": [
    "### How Much Data is Missing?\n",
    "The cell below shows a heatmap of missing data from the training samples. Each columns represent a feature. Red means present features whereas blue means absent"
   ]
  },
  {
   "cell_type": "code",
   "execution_count": 3,
   "metadata": {},
   "outputs": [
    {
     "data": {
      "image/png": "[encoded data removed]",
      "text/plain": [
       "<matplotlib.figure.Figure at 0x7f6e66ad6898>"
      ]
     },
     "metadata": {},
     "output_type": "display_data"
    }
   ],
   "source": [
    "path = \"/home/emy24/tadpole/data/\"\n",
    "\n",
    "_, _, _, all_feature, _, _ = preprocess(path,elim_sparse_feature = False)\n",
    "plt.figure(figsize = (10,10))\n",
    "plt.imshow(np.transpose((all_feature.iloc[:,:-1].as_matrix() == 1)*1), \n",
    "           cmap = \"seismic\") #Last feature is the IDs, no need to plot\n",
    "plt.ylabel('Feature', fontsize=20)\n",
    "plt.xlabel('Subjects', fontsize=20)\n",
    "plt.xticks(fontsize = 18)\n",
    "plt.yticks(fontsize = 18)\n",
    "plt.show()"
   ]
  },
  {
   "cell_type": "code",
   "execution_count": null,
   "metadata": {},
   "outputs": [],
   "source": [
    "_, _, _, cutoff20, _, _ = preprocess(path,elim_sparse_feature = True, cutoff = 0.2)\n",
    "plt.figure(figsize = (10,10))\n",
    "plt.subplot(1,3,2)\n",
    "plt.imshow(np.transpose((cutoff20.iloc[:,:-1].as_matrix() == 1)*1),\n",
    "           cmap = \"seismic\")\n",
    "plt.ylabel('Features', fontsize=20)\n",
    "plt.xlabel('Subjects', fontsize=20)\n",
    "plt.axis(\"off\")\n",
    "plt.show()"
   ]
  },
  {
   "cell_type": "code",
   "execution_count": 5,
   "metadata": {},
   "outputs": [
    {
     "data": {
      "image/png": "[encoded data removed]",
      "text/plain": [
       "<matplotlib.figure.Figure at 0x7f6e65a970f0>"
      ]
     },
     "metadata": {},
     "output_type": "display_data"
    }
   ],
   "source": [
    "_, _, _, cutoff30, _, _ = preprocess(path,elim_sparse_feature = True, cutoff = 0.3)\n",
    "plt.figure(figsize = (10,10))\n",
    "plt.imshow(np.transpose((cutoff30.iloc[:,:-1].as_matrix() == 1)*1), \n",
    "           cmap = \"seismic\")\n",
    "plt.ylabel('Feature',  fontsize=20)\n",
    "plt.xlabel('Subjects', fontsize=20)\n",
    "plt.xticks(fontsize = 18)\n",
    "plt.yticks(fontsize = 18)\n",
    "plt.show()"
   ]
  },
  {
   "cell_type": "markdown",
   "metadata": {},
   "source": [
    "### Patient Visit Interval"
   ]
  },
  {
   "cell_type": "markdown",
   "metadata": {},
   "source": [
    "On training data, we want to see what is the month interval at which patients return for visit. "
   ]
  },
  {
   "cell_type": "code",
   "execution_count": null,
   "metadata": {
    "scrolled": true
   },
   "outputs": [],
   "source": [
    "path = \"/home/emy24/tadpole/data/\"\n",
    "raw_data = pd.read_csv(path + \"/TADPOLE_InputData.csv\", low_memory=False)\n",
    "raw_data = raw_data.rename(columns = {'DX':'DX2'}) # Rename that column so there is no conflict in the algorithm\n",
    "\n",
    "\"\"\"Obtain the IDs used for validation and test set\"\"\"\n",
    "val_id = pd.read_csv(path + \"/TADPOLE_TargetData_test.csv\", low_memory=False)\n",
    "test_id = pd.read_csv(path + \"/TADPOLE_PredictTargetData_valid.csv\", low_memory=False)\n",
    "\n",
    "val_id = val_id[\"PTID_Key\"].unique().astype(\"int\")\n",
    "test_id = test_id[\"PTID_Key\"].unique().astype(\"int\")\n",
    "\n",
    "\"\"\"Columns 1888,1889, 1890 are numbers. Some number have inequality and some are wrongly typed as string\n",
    " The following lines convert everything to float and replace inqualities with NaN\"\"\"\n",
    "raw_data.iloc[:,1888] = pd.to_numeric(raw_data.iloc[:,1888],errors = \"coerce\")\n",
    "raw_data.iloc[:,1889] = pd.to_numeric(raw_data.iloc[:,1889],errors = \"coerce\")\n",
    "raw_data.iloc[:,1890] = pd.to_numeric(raw_data.iloc[:,1890],errors = \"coerce\")\n",
    "raw_data.iloc[:,3] = raw_data.iloc[:,3].astype('category')\n",
    "raw_data.iloc[:,6] = raw_data.iloc[:,6].astype('category')\n",
    "raw_data.iloc[:,10] = raw_data.iloc[:,10].astype('category')\n",
    "\n",
    "\"\"\" Column 1891 is mixture of string and number. Get rid of the string \"\"\"\n",
    "raw_data.iloc[:,1891] = raw_data.iloc[:,1891].str.extract('(\\d+)', expand = False)\n",
    "raw_data.iloc[:,1891] = pd.to_numeric(raw_data.iloc[:,1891])\n",
    "\n",
    "\"\"\"Remove Columns that does not need one-hot ecoding\"\"\"\n",
    "n_row = raw_data.shape[0]\n",
    "n_col = raw_data.shape[1]\n",
    "removed_col = [] \n",
    "for n in range(n_col):\n",
    "    if (\"PTID_Key\" in raw_data.columns[n] or\n",
    "        \"EXAMDATE\" in raw_data.columns[n] or \n",
    "        \"VERSION\" in raw_data.columns[n] or \n",
    "        \"update\" in raw_data.columns[n] or \n",
    "        \"RUNDATE\" in raw_data.columns[n] or \n",
    "        \"STATUS\" in raw_data.columns[n] or \n",
    "        \"BATCH_UPENNBIOMK9_04_19_17\" in raw_data.columns[n] or \n",
    "        \"KIT_UPENNBIOMK9_04_19_17\" in raw_data.columns[n] or \n",
    "        \"STDS_UPENNBIOMK9_04_19_17\" in raw_data.columns[n]) :\n",
    "        removed_col += [n]    \n",
    "\n",
    "n = np.arange(n_col)\n",
    "n = np.setxor1d(removed_col,n)\n",
    "data = raw_data.iloc[:,n]\n",
    "\n",
    "\"\"\"Search for categorical column and store where NaN are located\"\"\"\n",
    "categorical_col = []\n",
    "for c in range(data.shape[1]):\n",
    "    if ((str(data.iloc[:,c].dtype)) == str(\"category\") or \n",
    "        data.iloc[:,c].dtype is np.dtype('O')):\n",
    "        categorical_col += [data.columns[c]]\n",
    "\n",
    "\"\"\"One-hot encode\"\"\"\n",
    "_nan_categories = data.isnull()\n",
    "data = pd.get_dummies(data)\n",
    "\n",
    "# Put NaN for the categorical data\n",
    "for name in categorical_col:\n",
    "    data.loc[_nan_categories[name], data.columns.str.startswith(name)] = np.NaN\n",
    "\n",
    "\"\"\"Find the Location of NaN. It will be used for the indicator function\"\"\"\n",
    "indicators = pd.isnull(data)\n",
    "# 1 for existing data and 0 to nan\n",
    "indicators = (indicators*1==0)*1\n",
    "\n",
    "\"\"\"Reattach removed columns at the end\"\"\"\n",
    "data = pd.concat([data, raw_data.iloc[:,removed_col]], axis=1)\n",
    "indicators = pd.concat([indicators, raw_data[\"PTID_Key\"]], axis=1) \n",
    "#Only ID is needed for the indicators\n",
    "\n",
    "\"\"\"Replace -4 with NaN\"\"\"\n",
    "data = data.replace(-4, np.NaN)\n",
    "#Make it look pretty :) \n",
    "data = data.replace(np.nan,np.NaN)\n",
    "data = data.replace(np.NAN,np.NaN)\n",
    "\n",
    "\"\"\"Separate Train, Val, Test\"\"\"\n",
    "groups = [data for _, data in data.groupby(\"PTID_Key\")]\n",
    "indicators_group = [indicators for _, indicators in indicators.groupby(\"PTID_Key\")]\n",
    "\n",
    "trn_indicator = []\n",
    "val_indicator = []\n",
    "test_indicator = []\n",
    "xTrain = []\n",
    "xVal = []\n",
    "xTest = []\n",
    "for n in range(len(groups)):\n",
    "    subject = groups[n][\"PTID_Key\"].unique()[0].astype(\"int\")\n",
    "    if np.any(val_id == subject):\n",
    "        groups[n][\"EXAMDATE\"] = pd.to_datetime(groups[n][\"EXAMDATE\"])\n",
    "        groups[n] = groups[n].sort_values(\"EXAMDATE\")\n",
    "        xVal += [groups[n]]\n",
    "        val_indicator += [indicators_group[n]]\n",
    "    elif np.any(test_id == subject):\n",
    "        groups[n][\"EXAMDATE\"] = pd.to_datetime(groups[n][\"EXAMDATE\"])\n",
    "        groups[n] = groups[n].sort_values(\"EXAMDATE\")\n",
    "        xTest += [groups[n]]\n",
    "        test_indicator += [indicators_group[n]]\n",
    "    else:\n",
    "        groups[n][\"EXAMDATE\"] = pd.to_datetime(groups[n][\"EXAMDATE\"])\n",
    "        groups[n] = groups[n].sort_values(\"EXAMDATE\")\n",
    "        xTrain += [groups[n]]\n",
    "        trn_indicator += [indicators_group[n]]\n",
    "\n",
    "xTrain = pd.concat(xTrain).reset_index(drop=True)\n",
    "xTrain[\"EXAMDATE\"] = pd.to_datetime(xTrain[\"EXAMDATE\"])\n",
    "group = [xTrain for _, xTrain in xTrain.groupby(\"PTID_Key\")] #Group the same patient into a list\n",
    "\n",
    "diff = np.array([0])\n",
    "for n in range(len(group)):\n",
    "#     group[n] = group[n].sort_values(\"EXAMDATE\")\n",
    "    conseq_diff = group[n][\"EXAMDATE\"].diff()\n",
    "    conseq_diff = conseq_diff/ np.timedelta64(1,'M')  #Convert to months\n",
    "    conseq_diff = conseq_diff.replace(np.NaN,0)\n",
    "    conseq_diff = conseq_diff.values[1:] #First Value is always 0, eliminate it \n",
    "    diff = np.concatenate((diff,conseq_diff))\n",
    "diff = diff[1:]\n",
    "\n",
    "plt.hist(diff)\n",
    "plt.xticks(fontsize = 18)\n",
    "plt.yticks(fontsize = 18)\n",
    "plt.xlabel(\"Months Between Visits\", fontsize=20)\n",
    "plt.ylabel(\"Frequency\", fontsize=20)"
   ]
  },
  {
   "cell_type": "code",
   "execution_count": null,
   "metadata": {},
   "outputs": [],
   "source": [
    "path = \"/home/emy24/tadpole/data/\"\n",
    "\n",
    "raw_data = pd.read_csv(path + \"TADPOLE_TargetData_train.csv\", low_memory=False)\n",
    "raw_data[\"Date\"] = pd.to_datetime(raw_data[\"Date\"])\n",
    "data = raw_data.dropna(thresh=3)  #you have to have thres data point, if not delete. \n",
    "#Thres is 3 because you want Date,PTID_key and an extra variable to be present. \n",
    "\n",
    "group = [data for _, data in data.groupby(\"PTID_Key\")] #Group the same patient into a list\n",
    "\n",
    "diff = np.array([0])\n",
    "for n in range(len(group)):\n",
    "    group[n] = group[n].sort_values(\"Date\")\n",
    "    conseq_diff = group[n][\"Date\"].diff()\n",
    "    conseq_diff = conseq_diff/ np.timedelta64(1,'M')  #Convert to months\n",
    "    conseq_diff = conseq_diff.replace(np.NaN,0)\n",
    "    conseq_diff = conseq_diff.values[1:] #First Value is always 0, eliminate it \n",
    "    diff = np.concatenate((diff,conseq_diff))\n",
    "diff = diff[1:]\n",
    "\n",
    "plt.hist(diff)\n",
    "plt.xticks(fontsize = 18)\n",
    "plt.yticks(fontsize = 18)\n",
    "plt.xlabel(\"Months Between Visits\", fontsize=20)\n",
    "plt.ylabel(\"Frequency\",fontsize=20)"
   ]
  }
 ],
 "metadata": {
  "kernelspec": {
   "display_name": "Python 3",
   "language": "python",
   "name": "python3"
  },
  "language_info": {
   "codemirror_mode": {
    "name": "ipython",
    "version": 3
   },
   "file_extension": ".py",
   "mimetype": "text/x-python",
   "name": "python",
   "nbconvert_exporter": "python",
   "pygments_lexer": "ipython3",
   "version": "3.5.3"
  }
 },
 "nbformat": 4,
 "nbformat_minor": 2
}
