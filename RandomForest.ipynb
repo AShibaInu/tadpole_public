{
 "cells": [
  {
   "cell_type": "code",
   "execution_count": 1,
   "metadata": {
    "collapsed": true
   },
   "outputs": [],
   "source": [
    "import numpy as np\n",
    "import pandas as pd\n",
    "import matplotlib.pyplot as plt\n",
    "import seaborn as sns\n",
    "\n",
    "from sklearn.ensemble import RandomForestClassifier, RandomForestRegressor\n",
    "from sklearn.preprocessing import Imputer\n",
    "from sklearn.metrics import log_loss, zero_one_loss, mean_squared_error, roc_curve\n",
    "\n",
    "%matplotlib inline"
   ]
  },
  {
   "cell_type": "markdown",
   "metadata": {},
   "source": [
    "## Preprocessing (adapted from tool.py)"
   ]
  },
  {
   "cell_type": "code",
   "execution_count": 2,
   "metadata": {
    "collapsed": true
   },
   "outputs": [],
   "source": [
    "path = \"./data/\"\n",
    "\n",
    "raw_data = pd.read_csv(path + \"/TADPOLE_InputData.csv\", parse_dates=[1],low_memory=False)\n",
    "raw_data = raw_data.rename(columns = {'DX':'DX2'}) # Rename that column so there is no conflict in the algorithm\n",
    "\n",
    "\"\"\"Obtain the IDs used for validation and test set\"\"\"\n",
    "yTr_raw = pd.read_csv(path + \"/TADPOLE_TargetData_train.csv\", parse_dates=[0], low_memory=False)\n",
    "yVal_raw = pd.read_csv(path + \"/TADPOLE_TargetData_test.csv\", parse_dates=[0], low_memory=False)\n",
    "yTe_raw = pd.read_csv(path + \"/TADPOLE_PredictTargetData_valid.csv\", parse_dates=[0], low_memory=False)\n",
    "\n",
    "val_id = yVal_raw[\"PTID_Key\"].unique().astype(\"int\")\n",
    "test_id = yTe_raw[\"PTID_Key\"].unique().astype(\"int\")\n",
    "\n",
    "\"\"\"Columns 1888,1889, 1890 are numbers. Some number have inequality and some are wrongly typed as string\n",
    " The following lines convert everything to float and replace inqualities with NaN\"\"\"\n",
    "raw_data.iloc[:,1888] = pd.to_numeric(raw_data.iloc[:,1888],errors = \"coerce\")\n",
    "raw_data.iloc[:,1889] = pd.to_numeric(raw_data.iloc[:,1889],errors = \"coerce\")\n",
    "raw_data.iloc[:,1890] = pd.to_numeric(raw_data.iloc[:,1890],errors = \"coerce\")\n",
    "raw_data.iloc[:,3] = raw_data.iloc[:,3].astype('category')\n",
    "raw_data.iloc[:,6] = raw_data.iloc[:,6].astype('category')\n",
    "raw_data.iloc[:,10] = raw_data.iloc[:,10].astype('category')\n",
    "\n",
    "\"\"\" Column 1891 is mixture of string and number. Get rid of the string \"\"\"\n",
    "raw_data.iloc[:,1891] = raw_data.iloc[:,1891].str.extract('(\\d+)', expand = False)\n",
    "raw_data.iloc[:,1891] = pd.to_numeric(raw_data.iloc[:,1891])"
   ]
  },
  {
   "cell_type": "code",
   "execution_count": 3,
   "metadata": {},
   "outputs": [
    {
     "name": "stderr",
     "output_type": "stream",
     "text": [
      "/nfs01/shared_software/anaconda3/envs/py35/lib/python3.5/site-packages/pandas/core/frame.py:2352: SettingWithCopyWarning: \n",
      "A value is trying to be set on a copy of a slice from a DataFrame.\n",
      "Try using .loc[row_indexer,col_indexer] = value instead\n",
      "\n",
      "See the caveats in the documentation: http://pandas.pydata.org/pandas-docs/stable/indexing.html#indexing-view-versus-copy\n",
      "  self[k1] = value[k2]\n"
     ]
    }
   ],
   "source": [
    "\"\"\"Remove Columns that does not need one-hot encoding\"\"\"\n",
    "n_row, n_col = raw_data.shape\n",
    "\n",
    "removed_col = [] \n",
    "for n in range(n_col):\n",
    "    if (\"PTID_Key\" in raw_data.columns[n] or\n",
    "        \"EXAMDATE\" in raw_data.columns[n] or \n",
    "        \"VERSION\" in raw_data.columns[n] or \n",
    "        \"update\" in raw_data.columns[n] or \n",
    "        \"RUNDATE\" in raw_data.columns[n] or \n",
    "        \"STATUS\" in raw_data.columns[n] or \n",
    "        \"BATCH_UPENNBIOMK9_04_19_17\" in raw_data.columns[n] or \n",
    "        \"KIT_UPENNBIOMK9_04_19_17\" in raw_data.columns[n] or \n",
    "        \"STDS_UPENNBIOMK9_04_19_17\" in raw_data.columns[n]) :\n",
    "        \n",
    "        removed_col += [n]    \n",
    "\n",
    "col_indices_onehot = np.setxor1d(removed_col,np.arange(n_col))\n",
    "data_onehot = raw_data.iloc[:, col_indices_onehot]\n",
    "\n",
    "\"\"\"Search for categorical columns and convert to int encoding\"\"\"\n",
    "obj_columns = data_onehot.select_dtypes(['object']).columns\n",
    "for obj_col in obj_columns:\n",
    "    data_onehot[obj_col].astype('category')\n",
    "    \n",
    "\"\"\"Search for categorical columns and convert to int encoding\"\"\"\n",
    "cat_columns = data_onehot.select_dtypes(['category']).columns\n",
    "data_onehot[cat_columns] = data_onehot[cat_columns].apply(lambda x: x.cat.codes)\n",
    "        \n",
    "# \"\"\"One-hot encode\"\"\"\n",
    "# _nan_categories = data_onehot.isnull()\n",
    "# data_onehot = pd.get_dummies(data_onehot)\n",
    "\n",
    "# # Put NaN for the categorical data\n",
    "# for name in categorical_col:\n",
    "#     data_onehot.loc[_nan_categories[name], data_onehot.columns.str.startswith(name)] = np.NaN\n",
    "\n",
    "\n",
    "\"\"\"Replace -4 with NaN\"\"\"\n",
    "data_onehot = data_onehot.replace(-4, np.NaN)\n",
    "\n",
    "#Make it look pretty :) \n",
    "data_onehot = data_onehot.replace(np.nan,np.NaN)\n",
    "data_onehot = data_onehot.replace(np.NAN,np.NaN)\n",
    "\n",
    "data_onehot = data_onehot.select_dtypes(exclude=[object])"
   ]
  },
  {
   "cell_type": "code",
   "execution_count": 4,
   "metadata": {},
   "outputs": [
    {
     "data": {
      "text/html": [
       "<div>\n",
       "<style>\n",
       "    .dataframe thead tr:only-child th {\n",
       "        text-align: right;\n",
       "    }\n",
       "\n",
       "    .dataframe thead th {\n",
       "        text-align: left;\n",
       "    }\n",
       "\n",
       "    .dataframe tbody tr th {\n",
       "        vertical-align: top;\n",
       "    }\n",
       "</style>\n",
       "<table border=\"1\" class=\"dataframe\">\n",
       "  <thead>\n",
       "    <tr style=\"text-align: right;\">\n",
       "      <th></th>\n",
       "      <th>DXCHANGE</th>\n",
       "      <th>AGE</th>\n",
       "      <th>PTEDUCAT</th>\n",
       "      <th>APOE4</th>\n",
       "      <th>FDG</th>\n",
       "      <th>PIB</th>\n",
       "      <th>AV45</th>\n",
       "      <th>CDRSB</th>\n",
       "      <th>ADAS11</th>\n",
       "      <th>ADAS13</th>\n",
       "      <th>...</th>\n",
       "      <th>AD_TAP_R_DTIROI_04_30_14</th>\n",
       "      <th>AD_SUMGCC_DTIROI_04_30_14</th>\n",
       "      <th>AD_SUMBCC_DTIROI_04_30_14</th>\n",
       "      <th>AD_SUMSCC_DTIROI_04_30_14</th>\n",
       "      <th>AD_SUMCC_DTIROI_04_30_14</th>\n",
       "      <th>AD_SUMFX_DTIROI_04_30_14</th>\n",
       "      <th>ABETA_UPENNBIOMK9_04_19_17</th>\n",
       "      <th>TAU_UPENNBIOMK9_04_19_17</th>\n",
       "      <th>PTAU_UPENNBIOMK9_04_19_17</th>\n",
       "      <th>COMMENT_UPENNBIOMK9_04_19_17</th>\n",
       "    </tr>\n",
       "  </thead>\n",
       "  <tbody>\n",
       "    <tr>\n",
       "      <th>0</th>\n",
       "      <td>0</td>\n",
       "      <td>74.3</td>\n",
       "      <td>11</td>\n",
       "      <td>0</td>\n",
       "      <td>1.36926</td>\n",
       "      <td>NaN</td>\n",
       "      <td>NaN</td>\n",
       "      <td>0.0</td>\n",
       "      <td>10.67</td>\n",
       "      <td>18.67</td>\n",
       "      <td>...</td>\n",
       "      <td>NaN</td>\n",
       "      <td>NaN</td>\n",
       "      <td>NaN</td>\n",
       "      <td>NaN</td>\n",
       "      <td>NaN</td>\n",
       "      <td>NaN</td>\n",
       "      <td>NaN</td>\n",
       "      <td>NaN</td>\n",
       "      <td>NaN</td>\n",
       "      <td>NaN</td>\n",
       "    </tr>\n",
       "    <tr>\n",
       "      <th>1</th>\n",
       "      <td>2</td>\n",
       "      <td>81.3</td>\n",
       "      <td>13</td>\n",
       "      <td>1</td>\n",
       "      <td>1.09079</td>\n",
       "      <td>NaN</td>\n",
       "      <td>NaN</td>\n",
       "      <td>4.5</td>\n",
       "      <td>22.00</td>\n",
       "      <td>31.00</td>\n",
       "      <td>...</td>\n",
       "      <td>NaN</td>\n",
       "      <td>NaN</td>\n",
       "      <td>NaN</td>\n",
       "      <td>NaN</td>\n",
       "      <td>NaN</td>\n",
       "      <td>NaN</td>\n",
       "      <td>741.5</td>\n",
       "      <td>239.7</td>\n",
       "      <td>22.83</td>\n",
       "      <td>NaN</td>\n",
       "    </tr>\n",
       "    <tr>\n",
       "      <th>2</th>\n",
       "      <td>2</td>\n",
       "      <td>81.3</td>\n",
       "      <td>13</td>\n",
       "      <td>1</td>\n",
       "      <td>1.06360</td>\n",
       "      <td>NaN</td>\n",
       "      <td>NaN</td>\n",
       "      <td>6.0</td>\n",
       "      <td>19.00</td>\n",
       "      <td>30.00</td>\n",
       "      <td>...</td>\n",
       "      <td>NaN</td>\n",
       "      <td>NaN</td>\n",
       "      <td>NaN</td>\n",
       "      <td>NaN</td>\n",
       "      <td>NaN</td>\n",
       "      <td>NaN</td>\n",
       "      <td>NaN</td>\n",
       "      <td>NaN</td>\n",
       "      <td>NaN</td>\n",
       "      <td>NaN</td>\n",
       "    </tr>\n",
       "    <tr>\n",
       "      <th>3</th>\n",
       "      <td>2</td>\n",
       "      <td>81.3</td>\n",
       "      <td>13</td>\n",
       "      <td>1</td>\n",
       "      <td>1.10384</td>\n",
       "      <td>NaN</td>\n",
       "      <td>NaN</td>\n",
       "      <td>3.5</td>\n",
       "      <td>24.00</td>\n",
       "      <td>35.00</td>\n",
       "      <td>...</td>\n",
       "      <td>NaN</td>\n",
       "      <td>NaN</td>\n",
       "      <td>NaN</td>\n",
       "      <td>NaN</td>\n",
       "      <td>NaN</td>\n",
       "      <td>NaN</td>\n",
       "      <td>601.4</td>\n",
       "      <td>251.7</td>\n",
       "      <td>24.18</td>\n",
       "      <td>NaN</td>\n",
       "    </tr>\n",
       "    <tr>\n",
       "      <th>4</th>\n",
       "      <td>2</td>\n",
       "      <td>81.3</td>\n",
       "      <td>13</td>\n",
       "      <td>1</td>\n",
       "      <td>1.03871</td>\n",
       "      <td>NaN</td>\n",
       "      <td>NaN</td>\n",
       "      <td>8.0</td>\n",
       "      <td>25.67</td>\n",
       "      <td>37.67</td>\n",
       "      <td>...</td>\n",
       "      <td>NaN</td>\n",
       "      <td>NaN</td>\n",
       "      <td>NaN</td>\n",
       "      <td>NaN</td>\n",
       "      <td>NaN</td>\n",
       "      <td>NaN</td>\n",
       "      <td>NaN</td>\n",
       "      <td>NaN</td>\n",
       "      <td>NaN</td>\n",
       "      <td>NaN</td>\n",
       "    </tr>\n",
       "  </tbody>\n",
       "</table>\n",
       "<p>5 rows × 1836 columns</p>\n",
       "</div>"
      ],
      "text/plain": [
       "   DXCHANGE   AGE  PTEDUCAT  APOE4      FDG  PIB  AV45  CDRSB  ADAS11  ADAS13  \\\n",
       "0         0  74.3        11      0  1.36926  NaN   NaN    0.0   10.67   18.67   \n",
       "1         2  81.3        13      1  1.09079  NaN   NaN    4.5   22.00   31.00   \n",
       "2         2  81.3        13      1  1.06360  NaN   NaN    6.0   19.00   30.00   \n",
       "3         2  81.3        13      1  1.10384  NaN   NaN    3.5   24.00   35.00   \n",
       "4         2  81.3        13      1  1.03871  NaN   NaN    8.0   25.67   37.67   \n",
       "\n",
       "               ...               AD_TAP_R_DTIROI_04_30_14  \\\n",
       "0              ...                                    NaN   \n",
       "1              ...                                    NaN   \n",
       "2              ...                                    NaN   \n",
       "3              ...                                    NaN   \n",
       "4              ...                                    NaN   \n",
       "\n",
       "   AD_SUMGCC_DTIROI_04_30_14  AD_SUMBCC_DTIROI_04_30_14  \\\n",
       "0                        NaN                        NaN   \n",
       "1                        NaN                        NaN   \n",
       "2                        NaN                        NaN   \n",
       "3                        NaN                        NaN   \n",
       "4                        NaN                        NaN   \n",
       "\n",
       "   AD_SUMSCC_DTIROI_04_30_14  AD_SUMCC_DTIROI_04_30_14  \\\n",
       "0                        NaN                       NaN   \n",
       "1                        NaN                       NaN   \n",
       "2                        NaN                       NaN   \n",
       "3                        NaN                       NaN   \n",
       "4                        NaN                       NaN   \n",
       "\n",
       "   AD_SUMFX_DTIROI_04_30_14  ABETA_UPENNBIOMK9_04_19_17  \\\n",
       "0                       NaN                         NaN   \n",
       "1                       NaN                       741.5   \n",
       "2                       NaN                         NaN   \n",
       "3                       NaN                       601.4   \n",
       "4                       NaN                         NaN   \n",
       "\n",
       "   TAU_UPENNBIOMK9_04_19_17  PTAU_UPENNBIOMK9_04_19_17  \\\n",
       "0                       NaN                        NaN   \n",
       "1                     239.7                      22.83   \n",
       "2                       NaN                        NaN   \n",
       "3                     251.7                      24.18   \n",
       "4                       NaN                        NaN   \n",
       "\n",
       "   COMMENT_UPENNBIOMK9_04_19_17  \n",
       "0                           NaN  \n",
       "1                           NaN  \n",
       "2                           NaN  \n",
       "3                           NaN  \n",
       "4                           NaN  \n",
       "\n",
       "[5 rows x 1836 columns]"
      ]
     },
     "execution_count": 4,
     "metadata": {},
     "output_type": "execute_result"
    }
   ],
   "source": [
    "data_onehot.head()"
   ]
  },
  {
   "cell_type": "code",
   "execution_count": 5,
   "metadata": {
    "collapsed": true
   },
   "outputs": [],
   "source": [
    "# drop columns that have >0.7 NaN. \n",
    "# Imputing these features with mean/median contaminates the forest too much\n",
    "data_onehot.dropna(thresh=len(data_onehot)*0.3, axis=1, inplace=True)"
   ]
  },
  {
   "cell_type": "code",
   "execution_count": 6,
   "metadata": {
    "scrolled": true
   },
   "outputs": [
    {
     "data": {
      "text/html": [
       "<div>\n",
       "<style>\n",
       "    .dataframe thead tr:only-child th {\n",
       "        text-align: right;\n",
       "    }\n",
       "\n",
       "    .dataframe thead th {\n",
       "        text-align: left;\n",
       "    }\n",
       "\n",
       "    .dataframe tbody tr th {\n",
       "        vertical-align: top;\n",
       "    }\n",
       "</style>\n",
       "<table border=\"1\" class=\"dataframe\">\n",
       "  <thead>\n",
       "    <tr style=\"text-align: right;\">\n",
       "      <th></th>\n",
       "      <th>DXCHANGE</th>\n",
       "      <th>AGE</th>\n",
       "      <th>PTEDUCAT</th>\n",
       "      <th>APOE4</th>\n",
       "      <th>FDG</th>\n",
       "      <th>CDRSB</th>\n",
       "      <th>ADAS11</th>\n",
       "      <th>ADAS13</th>\n",
       "      <th>MMSE</th>\n",
       "      <th>RAVLT_immediate</th>\n",
       "      <th>...</th>\n",
       "      <th>ST98CV_UCSFFSX_11_02_15_UCSFFSX51_08_01_16</th>\n",
       "      <th>ST98SA_UCSFFSX_11_02_15_UCSFFSX51_08_01_16</th>\n",
       "      <th>ST98TA_UCSFFSX_11_02_15_UCSFFSX51_08_01_16</th>\n",
       "      <th>ST98TS_UCSFFSX_11_02_15_UCSFFSX51_08_01_16</th>\n",
       "      <th>ST99CV_UCSFFSX_11_02_15_UCSFFSX51_08_01_16</th>\n",
       "      <th>ST99SA_UCSFFSX_11_02_15_UCSFFSX51_08_01_16</th>\n",
       "      <th>ST99TA_UCSFFSX_11_02_15_UCSFFSX51_08_01_16</th>\n",
       "      <th>ST99TS_UCSFFSX_11_02_15_UCSFFSX51_08_01_16</th>\n",
       "      <th>ST9SV_UCSFFSX_11_02_15_UCSFFSX51_08_01_16</th>\n",
       "      <th>LONIUID_BAIPETNMRC_09_12_16</th>\n",
       "    </tr>\n",
       "  </thead>\n",
       "  <tbody>\n",
       "    <tr>\n",
       "      <th>0</th>\n",
       "      <td>0</td>\n",
       "      <td>74.3</td>\n",
       "      <td>11</td>\n",
       "      <td>0</td>\n",
       "      <td>1.36926</td>\n",
       "      <td>0.0</td>\n",
       "      <td>10.67</td>\n",
       "      <td>18.67</td>\n",
       "      <td>28.0</td>\n",
       "      <td>44.0</td>\n",
       "      <td>...</td>\n",
       "      <td>3835.0</td>\n",
       "      <td>1622.0</td>\n",
       "      <td>2.077</td>\n",
       "      <td>0.746</td>\n",
       "      <td>15683.0</td>\n",
       "      <td>4272.0</td>\n",
       "      <td>3.028</td>\n",
       "      <td>0.649</td>\n",
       "      <td>4396.0</td>\n",
       "      <td>26812.0</td>\n",
       "    </tr>\n",
       "    <tr>\n",
       "      <th>1</th>\n",
       "      <td>2</td>\n",
       "      <td>81.3</td>\n",
       "      <td>13</td>\n",
       "      <td>1</td>\n",
       "      <td>1.09079</td>\n",
       "      <td>4.5</td>\n",
       "      <td>22.00</td>\n",
       "      <td>31.00</td>\n",
       "      <td>20.0</td>\n",
       "      <td>22.0</td>\n",
       "      <td>...</td>\n",
       "      <td>3681.0</td>\n",
       "      <td>1734.0</td>\n",
       "      <td>1.942</td>\n",
       "      <td>0.696</td>\n",
       "      <td>10387.0</td>\n",
       "      <td>3316.0</td>\n",
       "      <td>2.545</td>\n",
       "      <td>0.686</td>\n",
       "      <td>3304.0</td>\n",
       "      <td>26854.0</td>\n",
       "    </tr>\n",
       "    <tr>\n",
       "      <th>2</th>\n",
       "      <td>2</td>\n",
       "      <td>81.3</td>\n",
       "      <td>13</td>\n",
       "      <td>1</td>\n",
       "      <td>1.06360</td>\n",
       "      <td>6.0</td>\n",
       "      <td>19.00</td>\n",
       "      <td>30.00</td>\n",
       "      <td>24.0</td>\n",
       "      <td>19.0</td>\n",
       "      <td>...</td>\n",
       "      <td>4060.0</td>\n",
       "      <td>1868.0</td>\n",
       "      <td>2.051</td>\n",
       "      <td>0.723</td>\n",
       "      <td>9311.0</td>\n",
       "      <td>3138.0</td>\n",
       "      <td>2.445</td>\n",
       "      <td>0.713</td>\n",
       "      <td>3173.0</td>\n",
       "      <td>26850.0</td>\n",
       "    </tr>\n",
       "    <tr>\n",
       "      <th>3</th>\n",
       "      <td>2</td>\n",
       "      <td>81.3</td>\n",
       "      <td>13</td>\n",
       "      <td>1</td>\n",
       "      <td>1.10384</td>\n",
       "      <td>3.5</td>\n",
       "      <td>24.00</td>\n",
       "      <td>35.00</td>\n",
       "      <td>17.0</td>\n",
       "      <td>31.0</td>\n",
       "      <td>...</td>\n",
       "      <td>3921.0</td>\n",
       "      <td>1898.0</td>\n",
       "      <td>1.969</td>\n",
       "      <td>0.739</td>\n",
       "      <td>9736.0</td>\n",
       "      <td>3240.0</td>\n",
       "      <td>2.502</td>\n",
       "      <td>0.685</td>\n",
       "      <td>3235.0</td>\n",
       "      <td>26827.0</td>\n",
       "    </tr>\n",
       "    <tr>\n",
       "      <th>4</th>\n",
       "      <td>2</td>\n",
       "      <td>81.3</td>\n",
       "      <td>13</td>\n",
       "      <td>1</td>\n",
       "      <td>1.03871</td>\n",
       "      <td>8.0</td>\n",
       "      <td>25.67</td>\n",
       "      <td>37.67</td>\n",
       "      <td>19.0</td>\n",
       "      <td>23.0</td>\n",
       "      <td>...</td>\n",
       "      <td>4129.0</td>\n",
       "      <td>1915.0</td>\n",
       "      <td>2.020</td>\n",
       "      <td>0.707</td>\n",
       "      <td>9316.0</td>\n",
       "      <td>3097.0</td>\n",
       "      <td>2.474</td>\n",
       "      <td>0.677</td>\n",
       "      <td>3314.0</td>\n",
       "      <td>73011.0</td>\n",
       "    </tr>\n",
       "  </tbody>\n",
       "</table>\n",
       "<p>5 rows × 699 columns</p>\n",
       "</div>"
      ],
      "text/plain": [
       "   DXCHANGE   AGE  PTEDUCAT  APOE4      FDG  CDRSB  ADAS11  ADAS13  MMSE  \\\n",
       "0         0  74.3        11      0  1.36926    0.0   10.67   18.67  28.0   \n",
       "1         2  81.3        13      1  1.09079    4.5   22.00   31.00  20.0   \n",
       "2         2  81.3        13      1  1.06360    6.0   19.00   30.00  24.0   \n",
       "3         2  81.3        13      1  1.10384    3.5   24.00   35.00  17.0   \n",
       "4         2  81.3        13      1  1.03871    8.0   25.67   37.67  19.0   \n",
       "\n",
       "   RAVLT_immediate             ...               \\\n",
       "0             44.0             ...                \n",
       "1             22.0             ...                \n",
       "2             19.0             ...                \n",
       "3             31.0             ...                \n",
       "4             23.0             ...                \n",
       "\n",
       "   ST98CV_UCSFFSX_11_02_15_UCSFFSX51_08_01_16  \\\n",
       "0                                      3835.0   \n",
       "1                                      3681.0   \n",
       "2                                      4060.0   \n",
       "3                                      3921.0   \n",
       "4                                      4129.0   \n",
       "\n",
       "   ST98SA_UCSFFSX_11_02_15_UCSFFSX51_08_01_16  \\\n",
       "0                                      1622.0   \n",
       "1                                      1734.0   \n",
       "2                                      1868.0   \n",
       "3                                      1898.0   \n",
       "4                                      1915.0   \n",
       "\n",
       "   ST98TA_UCSFFSX_11_02_15_UCSFFSX51_08_01_16  \\\n",
       "0                                       2.077   \n",
       "1                                       1.942   \n",
       "2                                       2.051   \n",
       "3                                       1.969   \n",
       "4                                       2.020   \n",
       "\n",
       "   ST98TS_UCSFFSX_11_02_15_UCSFFSX51_08_01_16  \\\n",
       "0                                       0.746   \n",
       "1                                       0.696   \n",
       "2                                       0.723   \n",
       "3                                       0.739   \n",
       "4                                       0.707   \n",
       "\n",
       "   ST99CV_UCSFFSX_11_02_15_UCSFFSX51_08_01_16  \\\n",
       "0                                     15683.0   \n",
       "1                                     10387.0   \n",
       "2                                      9311.0   \n",
       "3                                      9736.0   \n",
       "4                                      9316.0   \n",
       "\n",
       "   ST99SA_UCSFFSX_11_02_15_UCSFFSX51_08_01_16  \\\n",
       "0                                      4272.0   \n",
       "1                                      3316.0   \n",
       "2                                      3138.0   \n",
       "3                                      3240.0   \n",
       "4                                      3097.0   \n",
       "\n",
       "   ST99TA_UCSFFSX_11_02_15_UCSFFSX51_08_01_16  \\\n",
       "0                                       3.028   \n",
       "1                                       2.545   \n",
       "2                                       2.445   \n",
       "3                                       2.502   \n",
       "4                                       2.474   \n",
       "\n",
       "   ST99TS_UCSFFSX_11_02_15_UCSFFSX51_08_01_16  \\\n",
       "0                                       0.649   \n",
       "1                                       0.686   \n",
       "2                                       0.713   \n",
       "3                                       0.685   \n",
       "4                                       0.677   \n",
       "\n",
       "   ST9SV_UCSFFSX_11_02_15_UCSFFSX51_08_01_16  LONIUID_BAIPETNMRC_09_12_16  \n",
       "0                                     4396.0                      26812.0  \n",
       "1                                     3304.0                      26854.0  \n",
       "2                                     3173.0                      26850.0  \n",
       "3                                     3235.0                      26827.0  \n",
       "4                                     3314.0                      73011.0  \n",
       "\n",
       "[5 rows x 699 columns]"
      ]
     },
     "execution_count": 6,
     "metadata": {},
     "output_type": "execute_result"
    }
   ],
   "source": [
    "data_onehot.head()"
   ]
  },
  {
   "cell_type": "code",
   "execution_count": 7,
   "metadata": {
    "collapsed": true
   },
   "outputs": [],
   "source": [
    "# Create our imputer to replace missing values with the mean e.g.\n",
    "data_onehot_imputed = Imputer(missing_values='NaN', strategy='mean', axis=0).fit_transform(data_onehot)\n",
    "\n",
    "#convert ndarray back to dataframe\n",
    "data_onehot_imputed = pd.DataFrame(data_onehot_imputed, columns = data_onehot.columns)"
   ]
  },
  {
   "cell_type": "code",
   "execution_count": 8,
   "metadata": {},
   "outputs": [
    {
     "data": {
      "text/plain": [
       "False"
      ]
     },
     "execution_count": 8,
     "metadata": {},
     "output_type": "execute_result"
    }
   ],
   "source": [
    "np.any(data_onehot_imputed==np.NaN)"
   ]
  },
  {
   "cell_type": "code",
   "execution_count": 9,
   "metadata": {
    "collapsed": true
   },
   "outputs": [],
   "source": [
    "\"\"\"\n",
    "    Only take the most recent visit for each patient. \n",
    "    Separate Train, Val, Test\n",
    "\"\"\"\n",
    "data = pd.concat([data_onehot_imputed, raw_data[['PTID_Key','EXAMDATE']]], axis=1)\n",
    "data_mostrecent = data.sort_values(['PTID_Key','EXAMDATE'],ascending=False).groupby('PTID_Key').head(1)"
   ]
  },
  {
   "cell_type": "code",
   "execution_count": 10,
   "metadata": {
    "collapsed": true
   },
   "outputs": [],
   "source": [
    "\"\"\" Preprocess the Target data for Tr, Val.\n",
    "    predicting the diag variable is classification, \n",
    "    predicting the 3 quantitative/continuous variables each is a regression. \n",
    "    \n",
    "    For each patient, look at all his target data entries from different times. \n",
    "    \n",
    "    [Diagnostic variable] \"Diag\"\n",
    "    Consider the 3 categories to be AD->1, MCI->0, CN-> -1\n",
    "    - if any visit is Diag_AD, then label = 1\n",
    "    - else if any visit is Diag_MCI, then label = 0\n",
    "    - else assign label = -1\n",
    "    \n",
    "    [quantitative variable] \"MMSE\",\"Ventricles_Norm\", \"ADAS13\"\n",
    "    for all 3 variables, ignore NaN and take average if the patient has several target data entries available\n",
    "\"\"\"\n",
    "\n",
    "yTr = yTr_raw.groupby(\"PTID_Key\").apply(lambda x: x.mean(skipna=True)).reset_index(drop=True)\n",
    "yTr[\"Diag\"] = yTr.apply(lambda row: 1 if row[\"AD_Diag\"] > 0 else (0 if row[\"MCI_Diag\"] > 0 else -1), axis=1)\n",
    "\n",
    "yVal = yVal_raw.groupby(\"PTID_Key\").apply(lambda x: x.mean(skipna=True)).reset_index(drop=True)\n",
    "yVal[\"Diag\"] = yVal.apply(lambda row: 1 if row[\"AD_Diag\"] > 0 else (0 if row[\"MCI_Diag\"] > 0 else -1), axis=1)"
   ]
  },
  {
   "cell_type": "code",
   "execution_count": 11,
   "metadata": {},
   "outputs": [
    {
     "data": {
      "text/html": [
       "<div>\n",
       "<style>\n",
       "    .dataframe thead tr:only-child th {\n",
       "        text-align: right;\n",
       "    }\n",
       "\n",
       "    .dataframe thead th {\n",
       "        text-align: left;\n",
       "    }\n",
       "\n",
       "    .dataframe tbody tr th {\n",
       "        vertical-align: top;\n",
       "    }\n",
       "</style>\n",
       "<table border=\"1\" class=\"dataframe\">\n",
       "  <thead>\n",
       "    <tr style=\"text-align: right;\">\n",
       "      <th></th>\n",
       "      <th>PTID_Key</th>\n",
       "      <th>CN_Diag</th>\n",
       "      <th>MCI_Diag</th>\n",
       "      <th>AD_Diag</th>\n",
       "      <th>ADAS13_x</th>\n",
       "      <th>Ventricles_Norm</th>\n",
       "      <th>MMSE_x</th>\n",
       "      <th>Diag</th>\n",
       "      <th>DXCHANGE</th>\n",
       "      <th>AGE</th>\n",
       "      <th>...</th>\n",
       "      <th>ST98SA_UCSFFSX_11_02_15_UCSFFSX51_08_01_16</th>\n",
       "      <th>ST98TA_UCSFFSX_11_02_15_UCSFFSX51_08_01_16</th>\n",
       "      <th>ST98TS_UCSFFSX_11_02_15_UCSFFSX51_08_01_16</th>\n",
       "      <th>ST99CV_UCSFFSX_11_02_15_UCSFFSX51_08_01_16</th>\n",
       "      <th>ST99SA_UCSFFSX_11_02_15_UCSFFSX51_08_01_16</th>\n",
       "      <th>ST99TA_UCSFFSX_11_02_15_UCSFFSX51_08_01_16</th>\n",
       "      <th>ST99TS_UCSFFSX_11_02_15_UCSFFSX51_08_01_16</th>\n",
       "      <th>ST9SV_UCSFFSX_11_02_15_UCSFFSX51_08_01_16</th>\n",
       "      <th>LONIUID_BAIPETNMRC_09_12_16</th>\n",
       "      <th>EXAMDATE</th>\n",
       "    </tr>\n",
       "  </thead>\n",
       "  <tbody>\n",
       "    <tr>\n",
       "      <th>0</th>\n",
       "      <td>6.0</td>\n",
       "      <td>1.0</td>\n",
       "      <td>0.0</td>\n",
       "      <td>0.0</td>\n",
       "      <td>2.000000</td>\n",
       "      <td>NaN</td>\n",
       "      <td>29.666667</td>\n",
       "      <td>-1</td>\n",
       "      <td>0.0</td>\n",
       "      <td>70.4</td>\n",
       "      <td>...</td>\n",
       "      <td>1651.000000</td>\n",
       "      <td>2.151000</td>\n",
       "      <td>0.748000</td>\n",
       "      <td>12557.000000</td>\n",
       "      <td>3684.000000</td>\n",
       "      <td>2.857000</td>\n",
       "      <td>0.639000</td>\n",
       "      <td>1529.000000</td>\n",
       "      <td>192993.000000</td>\n",
       "      <td>9/2/10</td>\n",
       "    </tr>\n",
       "    <tr>\n",
       "      <th>1</th>\n",
       "      <td>8.0</td>\n",
       "      <td>0.0</td>\n",
       "      <td>1.0</td>\n",
       "      <td>0.0</td>\n",
       "      <td>5.000000</td>\n",
       "      <td>0.012128</td>\n",
       "      <td>30.000000</td>\n",
       "      <td>0</td>\n",
       "      <td>0.0</td>\n",
       "      <td>71.4</td>\n",
       "      <td>...</td>\n",
       "      <td>1504.000000</td>\n",
       "      <td>2.421000</td>\n",
       "      <td>0.560000</td>\n",
       "      <td>8950.000000</td>\n",
       "      <td>2661.000000</td>\n",
       "      <td>2.820000</td>\n",
       "      <td>0.643000</td>\n",
       "      <td>1138.000000</td>\n",
       "      <td>165472.284842</td>\n",
       "      <td>6/20/12</td>\n",
       "    </tr>\n",
       "    <tr>\n",
       "      <th>2</th>\n",
       "      <td>18.0</td>\n",
       "      <td>0.0</td>\n",
       "      <td>1.0</td>\n",
       "      <td>0.0</td>\n",
       "      <td>11.666667</td>\n",
       "      <td>0.020526</td>\n",
       "      <td>29.666667</td>\n",
       "      <td>0</td>\n",
       "      <td>-1.0</td>\n",
       "      <td>73.0</td>\n",
       "      <td>...</td>\n",
       "      <td>1653.766381</td>\n",
       "      <td>2.245012</td>\n",
       "      <td>0.738751</td>\n",
       "      <td>10021.936654</td>\n",
       "      <td>3135.000467</td>\n",
       "      <td>2.666136</td>\n",
       "      <td>0.696469</td>\n",
       "      <td>2100.075175</td>\n",
       "      <td>165472.284842</td>\n",
       "      <td>8/6/12</td>\n",
       "    </tr>\n",
       "    <tr>\n",
       "      <th>3</th>\n",
       "      <td>21.0</td>\n",
       "      <td>0.0</td>\n",
       "      <td>1.0</td>\n",
       "      <td>0.0</td>\n",
       "      <td>9.200000</td>\n",
       "      <td>0.006712</td>\n",
       "      <td>28.000000</td>\n",
       "      <td>0</td>\n",
       "      <td>-1.0</td>\n",
       "      <td>55.0</td>\n",
       "      <td>...</td>\n",
       "      <td>1908.000000</td>\n",
       "      <td>2.341000</td>\n",
       "      <td>0.931000</td>\n",
       "      <td>15998.000000</td>\n",
       "      <td>4388.000000</td>\n",
       "      <td>2.881000</td>\n",
       "      <td>0.910000</td>\n",
       "      <td>1838.000000</td>\n",
       "      <td>165472.284842</td>\n",
       "      <td>12/20/12</td>\n",
       "    </tr>\n",
       "    <tr>\n",
       "      <th>4</th>\n",
       "      <td>22.0</td>\n",
       "      <td>0.0</td>\n",
       "      <td>1.0</td>\n",
       "      <td>0.0</td>\n",
       "      <td>15.000000</td>\n",
       "      <td>0.034189</td>\n",
       "      <td>27.200000</td>\n",
       "      <td>0</td>\n",
       "      <td>1.0</td>\n",
       "      <td>75.6</td>\n",
       "      <td>...</td>\n",
       "      <td>1796.000000</td>\n",
       "      <td>2.542000</td>\n",
       "      <td>0.710000</td>\n",
       "      <td>11780.000000</td>\n",
       "      <td>3360.000000</td>\n",
       "      <td>2.949000</td>\n",
       "      <td>0.649000</td>\n",
       "      <td>3306.000000</td>\n",
       "      <td>337071.000000</td>\n",
       "      <td>8/20/12</td>\n",
       "    </tr>\n",
       "  </tbody>\n",
       "</table>\n",
       "<p>5 rows × 708 columns</p>\n",
       "</div>"
      ],
      "text/plain": [
       "   PTID_Key  CN_Diag  MCI_Diag  AD_Diag   ADAS13_x  Ventricles_Norm  \\\n",
       "0       6.0      1.0       0.0      0.0   2.000000              NaN   \n",
       "1       8.0      0.0       1.0      0.0   5.000000         0.012128   \n",
       "2      18.0      0.0       1.0      0.0  11.666667         0.020526   \n",
       "3      21.0      0.0       1.0      0.0   9.200000         0.006712   \n",
       "4      22.0      0.0       1.0      0.0  15.000000         0.034189   \n",
       "\n",
       "      MMSE_x  Diag  DXCHANGE   AGE    ...     \\\n",
       "0  29.666667    -1       0.0  70.4    ...      \n",
       "1  30.000000     0       0.0  71.4    ...      \n",
       "2  29.666667     0      -1.0  73.0    ...      \n",
       "3  28.000000     0      -1.0  55.0    ...      \n",
       "4  27.200000     0       1.0  75.6    ...      \n",
       "\n",
       "   ST98SA_UCSFFSX_11_02_15_UCSFFSX51_08_01_16  \\\n",
       "0                                 1651.000000   \n",
       "1                                 1504.000000   \n",
       "2                                 1653.766381   \n",
       "3                                 1908.000000   \n",
       "4                                 1796.000000   \n",
       "\n",
       "   ST98TA_UCSFFSX_11_02_15_UCSFFSX51_08_01_16  \\\n",
       "0                                    2.151000   \n",
       "1                                    2.421000   \n",
       "2                                    2.245012   \n",
       "3                                    2.341000   \n",
       "4                                    2.542000   \n",
       "\n",
       "   ST98TS_UCSFFSX_11_02_15_UCSFFSX51_08_01_16  \\\n",
       "0                                    0.748000   \n",
       "1                                    0.560000   \n",
       "2                                    0.738751   \n",
       "3                                    0.931000   \n",
       "4                                    0.710000   \n",
       "\n",
       "   ST99CV_UCSFFSX_11_02_15_UCSFFSX51_08_01_16  \\\n",
       "0                                12557.000000   \n",
       "1                                 8950.000000   \n",
       "2                                10021.936654   \n",
       "3                                15998.000000   \n",
       "4                                11780.000000   \n",
       "\n",
       "   ST99SA_UCSFFSX_11_02_15_UCSFFSX51_08_01_16  \\\n",
       "0                                 3684.000000   \n",
       "1                                 2661.000000   \n",
       "2                                 3135.000467   \n",
       "3                                 4388.000000   \n",
       "4                                 3360.000000   \n",
       "\n",
       "   ST99TA_UCSFFSX_11_02_15_UCSFFSX51_08_01_16  \\\n",
       "0                                    2.857000   \n",
       "1                                    2.820000   \n",
       "2                                    2.666136   \n",
       "3                                    2.881000   \n",
       "4                                    2.949000   \n",
       "\n",
       "   ST99TS_UCSFFSX_11_02_15_UCSFFSX51_08_01_16  \\\n",
       "0                                    0.639000   \n",
       "1                                    0.643000   \n",
       "2                                    0.696469   \n",
       "3                                    0.910000   \n",
       "4                                    0.649000   \n",
       "\n",
       "   ST9SV_UCSFFSX_11_02_15_UCSFFSX51_08_01_16  LONIUID_BAIPETNMRC_09_12_16  \\\n",
       "0                                1529.000000                192993.000000   \n",
       "1                                1138.000000                165472.284842   \n",
       "2                                2100.075175                165472.284842   \n",
       "3                                1838.000000                165472.284842   \n",
       "4                                3306.000000                337071.000000   \n",
       "\n",
       "   EXAMDATE  \n",
       "0    9/2/10  \n",
       "1   6/20/12  \n",
       "2    8/6/12  \n",
       "3  12/20/12  \n",
       "4   8/20/12  \n",
       "\n",
       "[5 rows x 708 columns]"
      ]
     },
     "execution_count": 11,
     "metadata": {},
     "output_type": "execute_result"
    }
   ],
   "source": [
    "Train = pd.merge(yTr, data_mostrecent, how='inner', on=['PTID_Key'])\n",
    "Validation = pd.merge(yVal, data_mostrecent, how='inner', on=['PTID_Key'])\n",
    "\n",
    "Train.head()"
   ]
  },
  {
   "cell_type": "markdown",
   "metadata": {},
   "source": [
    "## Baseline: Random Forest"
   ]
  },
  {
   "cell_type": "markdown",
   "metadata": {},
   "source": [
    "Random Forest consists of a set of decision trees where each tree consists of split nodes and leaf nodes. The split nodes evaluate each arriving sample and depending on the features of the sample, pass it to the left or right child. Each leaf node stores the statistic of the sample that arrives. The training stage of RF is to construct such multiple decision trees.\n",
    "\n",
    "The best split function can be learned by searching a pair of optimal splitting parameters w and t that can maximize the purity"
   ]
  },
  {
   "cell_type": "code",
   "execution_count": 12,
   "metadata": {
    "collapsed": true
   },
   "outputs": [],
   "source": [
    "X_colnames = Train.iloc[:, 8:].select_dtypes(exclude=[object]).columns\n",
    "X_colnames = [cn for cn in X_colnames if cn not in [\"pred_ADAS13\",\"pred_Ventricles_Norm\",\"pred_MMSE\"]]\n",
    "# Train_colnames"
   ]
  },
  {
   "cell_type": "markdown",
   "metadata": {},
   "source": [
    "## 1. Predicting Diag \n",
    "This is a multi-class classificaion problem. We use the RandomForestClassifier for it"
   ]
  },
  {
   "cell_type": "code",
   "execution_count": 13,
   "metadata": {},
   "outputs": [
    {
     "name": "stderr",
     "output_type": "stream",
     "text": [
      "[Parallel(n_jobs=1)]: Done 300 out of 300 | elapsed:    1.4s finished\n"
     ]
    },
    {
     "data": {
      "text/plain": [
       "RandomForestClassifier(bootstrap=True, class_weight=None, criterion='gini',\n",
       "            max_depth=None, max_features='auto', max_leaf_nodes=None,\n",
       "            min_impurity_split=1e-07, min_samples_leaf=1,\n",
       "            min_samples_split=2, min_weight_fraction_leaf=0.0,\n",
       "            n_estimators=300, n_jobs=1, oob_score=True, random_state=None,\n",
       "            verbose=1, warm_start=True)"
      ]
     },
     "execution_count": 13,
     "metadata": {},
     "output_type": "execute_result"
    }
   ],
   "source": [
    "clf_diag = RandomForestClassifier(n_estimators=300, oob_score=True, criterion='gini', verbose=1, warm_start=True)\n",
    "clf_diag.fit(Train[X_colnames], Train[\"Diag\"])"
   ]
  },
  {
   "cell_type": "code",
   "execution_count": 14,
   "metadata": {},
   "outputs": [
    {
     "data": {
      "text/plain": [
       "0.22290076335877862"
      ]
     },
     "execution_count": 14,
     "metadata": {},
     "output_type": "execute_result"
    }
   ],
   "source": [
    "oob_error = 1 - clf_diag.oob_score_\n",
    "oob_error"
   ]
  },
  {
   "cell_type": "code",
   "execution_count": 15,
   "metadata": {},
   "outputs": [
    {
     "name": "stderr",
     "output_type": "stream",
     "text": [
      "/nfs01/shared_software/anaconda3/envs/py35/lib/python3.5/site-packages/matplotlib/font_manager.py:1297: UserWarning: findfont: Font family ['sans-serif'] not found. Falling back to DejaVu Sans\n",
      "  (prop.get_family(), self.defaultFamily[fontext]))\n"
     ]
    },
    {
     "data": {
      "image/png": "[encoded data removed]",
      "text/plain": [
       "<matplotlib.figure.Figure at 0x7f905d972c50>"
      ]
     },
     "metadata": {},
     "output_type": "display_data"
    }
   ],
   "source": [
    "# np.set_printoptions(formatter={'float': lambda x: \"{0:0.3f}\".format(x)})\n",
    "\n",
    "# print clf_diag.feature_importances_\n",
    "plt.figure(figsize=(8,3))\n",
    "plt.plot(clf_diag.feature_importances_)\n",
    "plt.title(\"RF classifier for Diag: feature importances\", fontsize=20)\n",
    "plt.xticks(fontsize = 18)\n",
    "plt.yticks(fontsize = 18)\n",
    "plt.show()"
   ]
  },
  {
   "cell_type": "code",
   "execution_count": 16,
   "metadata": {},
   "outputs": [
    {
     "name": "stderr",
     "output_type": "stream",
     "text": [
      "[Parallel(n_jobs=1)]: Done 300 out of 300 | elapsed:    0.0s finished\n",
      "[Parallel(n_jobs=1)]: Done 300 out of 300 | elapsed:    0.0s finished\n"
     ]
    }
   ],
   "source": [
    "yTr_pred = Train[\"PTID_Key\"].copy()\n",
    "# predict class probabilities for Tr and Val\n",
    "diag_pred_proba = clf_diag.predict_proba(Train[X_colnames])\n",
    "yTr_pred[\"Diag\"] = clf_diag.predict(Train[X_colnames])\n",
    "yTr_pred[\"CN_Diag\"] = diag_pred_proba[:,0]\n",
    "yTr_pred[\"MCI_Diag\"] = diag_pred_proba[:,1]\n",
    "yTr_pred[\"AD_Diag\"] = diag_pred_proba[:,2]"
   ]
  },
  {
   "cell_type": "code",
   "execution_count": 17,
   "metadata": {},
   "outputs": [
    {
     "name": "stdout",
     "output_type": "stream",
     "text": [
      "Training error: Log-loss = 0.18593176403; zero-one-loss = 0.0\n"
     ]
    }
   ],
   "source": [
    "print(\"Training error: Log-loss = \" +  str(log_loss(Train[\"Diag\"], diag_pred_proba, labels=[-1,0,1])) \n",
    "      +\"; zero-one-loss = \"+  str(zero_one_loss(Train[\"Diag\"], yTr_pred[\"Diag\"])))"
   ]
  },
  {
   "cell_type": "code",
   "execution_count": 18,
   "metadata": {},
   "outputs": [
    {
     "name": "stdout",
     "output_type": "stream",
     "text": [
      "Validation error: Log-loss = 0.705857242746; zero-one-loss = 0.247706422018\n"
     ]
    },
    {
     "name": "stderr",
     "output_type": "stream",
     "text": [
      "[Parallel(n_jobs=1)]: Done 300 out of 300 | elapsed:    0.1s finished\n",
      "[Parallel(n_jobs=1)]: Done 300 out of 300 | elapsed:    0.0s finished\n"
     ]
    }
   ],
   "source": [
    "yVal_pred = Validation[\"PTID_Key\"].copy()\n",
    "# predict class probabilities for Tr and Val\n",
    "yVal_pred_proba = clf_diag.predict_proba(Validation[X_colnames])\n",
    "yVal_pred[\"Diag\"] = clf_diag.predict(Validation[X_colnames])\n",
    "yVal_pred[\"CN_Diag\"] = yVal_pred_proba[:,0]\n",
    "yVal_pred[\"MCI_Diag\"] = yVal_pred_proba[:,1]\n",
    "yVal_pred[\"AD_Diag\"] = yVal_pred_proba[:,2]\n",
    "\n",
    "# yTrue_diag = Train[[\"CN_Diag\",\"MCI_Diag\", \"AD_Diag\"]].replace(np.NaN, 0)\n",
    "print(\"Validation error: Log-loss = \" +  str(log_loss(Validation[\"Diag\"], yVal_pred_proba, labels=[-1,0,1])) \n",
    "      +\"; zero-one-loss = \"+  str(zero_one_loss(Validation[\"Diag\"], yVal_pred[\"Diag\"])))"
   ]
  },
  {
   "cell_type": "markdown",
   "metadata": {},
   "source": [
    "## 2.  Predicting the 3 quantitative/continuous variables \n",
    "Each is a regression problem. \n",
    "Although we know a priori that the 3 are very correlated, RF is not good at multi-output, so we have to make 3 RF Regressors. \n"
   ]
  },
  {
   "cell_type": "markdown",
   "metadata": {},
   "source": [
    "## 2.1 Regression for \"ADAS13\""
   ]
  },
  {
   "cell_type": "code",
   "execution_count": 19,
   "metadata": {},
   "outputs": [
    {
     "name": "stderr",
     "output_type": "stream",
     "text": [
      "[Parallel(n_jobs=1)]: Done 300 out of 300 | elapsed:   32.0s finished\n",
      "/nfs01/shared_software/anaconda3/envs/py35/lib/python3.5/site-packages/matplotlib/font_manager.py:1297: UserWarning: findfont: Font family ['sans-serif'] not found. Falling back to DejaVu Sans\n",
      "  (prop.get_family(), self.defaultFamily[fontext]))\n"
     ]
    },
    {
     "data": {
      "image/png": "[encoded data removed]",
      "text/plain": [
       "<matplotlib.figure.Figure at 0x7f9050120240>"
      ]
     },
     "metadata": {},
     "output_type": "display_data"
    }
   ],
   "source": [
    "clf_adas13 = RandomForestRegressor(n_estimators=300, oob_score=True, criterion='mse', verbose=1, warm_start=True, random_state=0)\n",
    "\n",
    "# re-select training data. \n",
    "Train_adas13_rows = pd.notnull(Train[\"ADAS13_x\"])\n",
    "clf_adas13.fit(Train[X_colnames][Train_adas13_rows], Train[\"ADAS13_x\"][Train_adas13_rows])\n",
    "\n",
    "plt.figure(figsize=(8,3))\n",
    "plt.plot(clf_adas13.feature_importances_)\n",
    "plt.title(\"RF Regressor for ADAS13_x: feature importances\", fontsize=20)\n",
    "plt.xticks(fontsize = 18)\n",
    "plt.yticks(fontsize = 18)\n",
    "plt.show()"
   ]
  },
  {
   "cell_type": "code",
   "execution_count": 20,
   "metadata": {},
   "outputs": [
    {
     "name": "stdout",
     "output_type": "stream",
     "text": [
      "Training MSE = 6.4906248237\n",
      "\n",
      "Validation MSE = 47.9836126122\n"
     ]
    },
    {
     "name": "stderr",
     "output_type": "stream",
     "text": [
      "[Parallel(n_jobs=1)]: Done 300 out of 300 | elapsed:    0.1s finished\n",
      "[Parallel(n_jobs=1)]: Done 300 out of 300 | elapsed:    0.0s finished\n"
     ]
    }
   ],
   "source": [
    "# predict for Tr \n",
    "Train[\"pred_ADAS13\"] = clf_adas13.predict(Train[X_colnames])\n",
    "print(\"Training MSE = \" +  str(mean_squared_error(Train[\"ADAS13_x\"][Train_adas13_rows], Train[\"pred_ADAS13\"][Train_adas13_rows])))\n",
    "\n",
    "# predict for Val\n",
    "valid_rows = pd.notnull(Validation[\"ADAS13_x\"])\n",
    "Validation[\"pred_ADAS13\"] = clf_adas13.predict(Validation[X_colnames])\n",
    "print(\"\\nValidation MSE = \" +  str(mean_squared_error(Validation[\"ADAS13_x\"][valid_rows], Validation[\"pred_ADAS13\"][valid_rows])))"
   ]
  },
  {
   "cell_type": "markdown",
   "metadata": {},
   "source": [
    "## 2.2 Regression for \"Ventricles_Norm\""
   ]
  },
  {
   "cell_type": "code",
   "execution_count": 21,
   "metadata": {},
   "outputs": [
    {
     "name": "stderr",
     "output_type": "stream",
     "text": [
      "[Parallel(n_jobs=1)]: Done 300 out of 300 | elapsed:   20.7s finished\n",
      "/nfs01/shared_software/anaconda3/envs/py35/lib/python3.5/site-packages/matplotlib/font_manager.py:1297: UserWarning: findfont: Font family ['sans-serif'] not found. Falling back to DejaVu Sans\n",
      "  (prop.get_family(), self.defaultFamily[fontext]))\n"
     ]
    },
    {
     "data": {
      "image/png": "[encoded data removed]",
      "text/plain": [
       "<matplotlib.figure.Figure at 0x7f904a85ea90>"
      ]
     },
     "metadata": {},
     "output_type": "display_data"
    }
   ],
   "source": [
    "reg_ven = RandomForestRegressor(n_estimators=300, oob_score=True, criterion='mse', verbose=1, warm_start=True, random_state=0)\n",
    "\n",
    "# re-select training data. \n",
    "Train_ven_rows = pd.notnull(Train[\"Ventricles_Norm\"])\n",
    "reg_ven.fit(Train[X_colnames][Train_ven_rows], Train[\"Ventricles_Norm\"][Train_ven_rows])\n",
    "\n",
    "plt.figure(figsize=(8,3))\n",
    "plt.plot(reg_ven.feature_importances_)\n",
    "plt.title(\"RF Regressor for Ventricles_Norm: feature importances\", fontsize=20)\n",
    "plt.xticks(fontsize = 18)\n",
    "plt.yticks(fontsize = 18)\n",
    "plt.show()"
   ]
  },
  {
   "cell_type": "code",
   "execution_count": 22,
   "metadata": {},
   "outputs": [
    {
     "name": "stdout",
     "output_type": "stream",
     "text": [
      "Training MSE = 2.01138904702e-06\n",
      "\n",
      "Validation MSE = 1.5001310572e-05\n"
     ]
    },
    {
     "name": "stderr",
     "output_type": "stream",
     "text": [
      "[Parallel(n_jobs=1)]: Done 300 out of 300 | elapsed:    0.1s finished\n",
      "[Parallel(n_jobs=1)]: Done 300 out of 300 | elapsed:    0.0s finished\n"
     ]
    }
   ],
   "source": [
    "# predict for Tr \n",
    "Train[\"pred_Ventricles_Norm\"] = reg_ven.predict(Train[X_colnames])\n",
    "print(\"Training MSE = \" +  str(mean_squared_error(Train[\"Ventricles_Norm\"][Train_ven_rows], \n",
    "                                                  Train[\"pred_Ventricles_Norm\"][Train_ven_rows])))\n",
    "\n",
    "# predict for Val\n",
    "valid_rows = pd.notnull(Validation[\"Ventricles_Norm\"])\n",
    "Validation[\"pred_Ventricles_Norm\"] = reg_ven.predict(Validation[X_colnames])\n",
    "print(\"\\nValidation MSE = \" +  str(mean_squared_error(Validation[\"Ventricles_Norm\"][valid_rows], \n",
    "                                                      Validation[\"pred_Ventricles_Norm\"][valid_rows])))"
   ]
  },
  {
   "cell_type": "markdown",
   "metadata": {},
   "source": [
    "## 2.3 Regression for \"MMSE\""
   ]
  },
  {
   "cell_type": "code",
   "execution_count": 23,
   "metadata": {},
   "outputs": [
    {
     "name": "stderr",
     "output_type": "stream",
     "text": [
      "[Parallel(n_jobs=1)]: Done 300 out of 300 | elapsed:   36.6s finished\n",
      "/nfs01/shared_software/anaconda3/envs/py35/lib/python3.5/site-packages/matplotlib/font_manager.py:1297: UserWarning: findfont: Font family ['sans-serif'] not found. Falling back to DejaVu Sans\n",
      "  (prop.get_family(), self.defaultFamily[fontext]))\n"
     ]
    },
    {
     "data": {
      "image/png": "[encoded data removed]",
      "text/plain": [
       "<matplotlib.figure.Figure at 0x7f905db20b00>"
      ]
     },
     "metadata": {},
     "output_type": "display_data"
    }
   ],
   "source": [
    "reg_mmse = RandomForestRegressor(n_estimators=300, oob_score=True, criterion='mse', verbose=1, warm_start=True, random_state=0)\n",
    "\n",
    "# re-select training data. \n",
    "Train_mmse_rows = pd.notnull(Train[\"MMSE_x\"])\n",
    "reg_mmse.fit(Train[X_colnames][Train_adas13_rows], Train[\"MMSE_x\"][Train_mmse_rows])\n",
    "\n",
    "plt.figure(figsize=(8,3))\n",
    "plt.plot(reg_mmse.feature_importances_)\n",
    "plt.title(\"RF Regressor for MMSE: feature importances\", fontsize=20)\n",
    "plt.xticks(fontsize = 18)\n",
    "plt.yticks(fontsize = 18)\n",
    "plt.show()"
   ]
  },
  {
   "cell_type": "code",
   "execution_count": 24,
   "metadata": {},
   "outputs": [
    {
     "name": "stdout",
     "output_type": "stream",
     "text": [
      "Training MSE = 0.905147861046\n",
      "\n",
      "Validation MSE = 7.19551080964\n"
     ]
    },
    {
     "name": "stderr",
     "output_type": "stream",
     "text": [
      "[Parallel(n_jobs=1)]: Done 300 out of 300 | elapsed:    0.1s finished\n",
      "[Parallel(n_jobs=1)]: Done 300 out of 300 | elapsed:    0.0s finished\n"
     ]
    }
   ],
   "source": [
    "# predict for Tr \n",
    "Train[\"pred_MMSE\"] = reg_mmse.predict(Train[X_colnames])\n",
    "print(\"Training MSE = \" +  str(mean_squared_error(Train[\"MMSE_x\"][Train_adas13_rows], \n",
    "                                                  Train[\"pred_MMSE\"][Train_adas13_rows])))\n",
    "\n",
    "# predict for Val\n",
    "valid_rows = pd.notnull(Validation[\"MMSE_x\"])\n",
    "Validation[\"pred_MMSE\"] = reg_mmse.predict(Validation[X_colnames])\n",
    "print(\"\\nValidation MSE = \" +  str(mean_squared_error(Validation[\"MMSE_x\"][valid_rows], \n",
    "                                                      Validation[\"pred_MMSE\"][valid_rows])))"
   ]
  },
  {
   "cell_type": "code",
   "execution_count": null,
   "metadata": {
    "collapsed": true
   },
   "outputs": [],
   "source": []
  }
 ],
 "metadata": {
  "kernelspec": {
   "display_name": "Python 3",
   "language": "python",
   "name": "python3"
  },
  "language_info": {
   "codemirror_mode": {
    "name": "ipython",
    "version": 3
   },
   "file_extension": ".py",
   "mimetype": "text/x-python",
   "name": "python",
   "nbconvert_exporter": "python",
   "pygments_lexer": "ipython3",
   "version": "3.5.3"
  }
 },
 "nbformat": 4,
 "nbformat_minor": 2
}
