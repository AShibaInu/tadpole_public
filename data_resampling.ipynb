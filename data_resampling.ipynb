{
 "cells": [
  {
   "cell_type": "code",
   "execution_count": 50,
   "metadata": {
    "collapsed": true
   },
   "outputs": [],
   "source": [
    "from tools import *\n",
    "from torch.autograd import Variable, Function\n",
    "import torch\n",
    "import math\n",
    "import numpy as np\n",
    "import torchvision\n",
    "import pandas as pd\n",
    "import torch.nn as nn\n",
    "import nibabel as nib\n",
    "import torch.optim as optim\n",
    "import matplotlib.pyplot as plt\n",
    "import torch.nn.functional as F\n",
    "import torch.utils.data as data_utils\n",
    "import torch.optim.lr_scheduler as schd  \n",
    "import torchvision.transforms as transforms\n",
    "from sklearn.metrics import mean_absolute_error\n",
    "\n",
    "%matplotlib inline"
   ]
  },
  {
   "cell_type": "markdown",
   "metadata": {},
   "source": [
    "### Get Original Val"
   ]
  },
  {
   "cell_type": "code",
   "execution_count": 57,
   "metadata": {
    "scrolled": false
   },
   "outputs": [
    {
     "name": "stderr",
     "output_type": "stream",
     "text": [
      "/nfs01/shared_software/anaconda3/envs/py35/lib/python3.5/site-packages/pandas/core/indexing.py:179: SettingWithCopyWarning: \n",
      "A value is trying to be set on a copy of a slice from a DataFrame\n",
      "\n",
      "See the caveats in the documentation: http://pandas.pydata.org/pandas-docs/stable/indexing.html#indexing-view-versus-copy\n",
      "  self._setitem_with_indexer(indexer, value)\n"
     ]
    }
   ],
   "source": [
    "path = \"/home/emy24/tadpole/data/\"\n",
    "datapath = path + \"TADPOLE_TargetData_test.csv\"\n",
    "resampled, orig_dates = resample_data(datapath, interpolation = True)\n",
    "orig_dates.iloc[781] = orig_dates.iloc[782]\n",
    "resampled_val_pred = pd.read_csv(\"/home/emy24/tadpole/data/val_pred_resampled.csv\")\n",
    "resampled_val_pred = resampled_val_pred.set_index(resampled.index.values)\n",
    "val = get_origDates(resampled_val_pred, orig_dates)\n",
    "val_orig = pd.read_csv(\"/home/emy24/tadpole/data/TADPOLE_TargetData_test.csv\")\n",
    "\n",
    "v = get_origDates(resampled, orig_dates)"
   ]
  },
  {
   "cell_type": "code",
   "execution_count": 102,
   "metadata": {},
   "outputs": [
    {
     "data": {
      "text/plain": [
       "0.79700115340253752"
      ]
     },
     "execution_count": 102,
     "metadata": {},
     "output_type": "execute_result"
    }
   ],
   "source": [
    "np.sum(np.argmax(val.iloc[:,2:5].values, axis = 1) ==  np.argmax(v.iloc[:,2:5].values, axis = 1))/867"
   ]
  },
  {
   "cell_type": "code",
   "execution_count": 95,
   "metadata": {},
   "outputs": [],
   "source": [
    "val.to_csv(\"/home/emy24/tadpole/data/val_final_pred.csv\")"
   ]
  },
  {
   "cell_type": "markdown",
   "metadata": {},
   "source": [
    "### Test"
   ]
  },
  {
   "cell_type": "code",
   "execution_count": 91,
   "metadata": {},
   "outputs": [
    {
     "name": "stderr",
     "output_type": "stream",
     "text": [
      "/nfs01/shared_software/anaconda3/envs/py35/lib/python3.5/site-packages/pandas/core/indexing.py:179: SettingWithCopyWarning: \n",
      "A value is trying to be set on a copy of a slice from a DataFrame\n",
      "\n",
      "See the caveats in the documentation: http://pandas.pydata.org/pandas-docs/stable/indexing.html#indexing-view-versus-copy\n",
      "  self._setitem_with_indexer(indexer, value)\n"
     ]
    }
   ],
   "source": [
    "path = \"/home/emy24/tadpole/data/\"\n",
    "datapath = path + \"TADPOLE_PredictTargetData_valid.csv\"\n",
    "resampled, orig_dates = resample_data(datapath, interpolation = True)\n",
    "orig_dates.iloc[598] = orig_dates.iloc[599]\n",
    "resampled_test_pred = pd.read_csv(\"/home/emy24/tadpole/data/test_pred_resampled.csv\")\n",
    "resampled_test_pred = resampled_test_pred.set_index(resampled.index.values)\n",
    "test = get_origDates(resampled_test_pred, orig_dates)\n",
    "test_orig = pd.read_csv(\"/home/emy24/tadpole/data/TADPOLE_PredictTargetData_valid.csv\")\n",
    "\n",
    "test.to_csv(\"/home/emy24/tadpole/data/test_final_pred.csv\")"
   ]
  },
  {
   "cell_type": "code",
   "execution_count": 94,
   "metadata": {},
   "outputs": [],
   "source": [
    "test.to_csv(\"/home/emy24/tadpole/data/test_final_pred.csv\")"
   ]
  },
  {
   "cell_type": "markdown",
   "metadata": {},
   "source": [
    "### Load data"
   ]
  },
  {
   "cell_type": "code",
   "execution_count": null,
   "metadata": {
    "collapsed": true
   },
   "outputs": [],
   "source": [
    "path = \"/home/zz452/tadpole/data/\"\n",
    "raw_data = pd.read_csv(path + \"TADPOLE_TargetData_train.csv\", low_memory=False)\n",
    "\n",
    "# Convert date to date time\n",
    "raw_data[\"Date\"] = pd.to_datetime(raw_data[\"Date\"])\n",
    "\n",
    "# create two new columns to keep track if the datapoint is resampled, and the original date\n",
    "raw_data[\"orig_date\"] = 0\n",
    "\n",
    "group = [data for _, data in raw_data.groupby(\"PTID_Key\")] #Group the same patient into a list"
   ]
  },
  {
   "cell_type": "markdown",
   "metadata": {},
   "source": [
    "### resampling"
   ]
  },
  {
   "cell_type": "code",
   "execution_count": null,
   "metadata": {
    "collapsed": true
   },
   "outputs": [],
   "source": [
    "resampled = []\n",
    "\n",
    "for patient in group:\n",
    "\n",
    "    patient.sort_values(by='Date') # sort the date by date\n",
    "    num_data = patient.shape[0]\n",
    "    time_diff = patient[\"Date\"].diff()\n",
    "    time_diff = time_diff / np.timedelta64(1,'M') #Convert to months\n",
    "    num_resample = 1 # keep track of total number of resamples\n",
    "    PTID_Key = patient.iloc[0,1]\n",
    "    # resample the first data\n",
    "    patient.iloc[0,-1] = patient.iloc[0,0]  # remember the orig date\n",
    "    patient.iloc[0,0] = pd.to_datetime(\"2010-01-01\") # resample date  \n",
    "    \n",
    "    for i in range(num_data-1): \n",
    "        \n",
    "        resample_time = int( np.round(time_diff.iloc[i+1]/5) )\n",
    "\n",
    "        # resample by (resample_time - 1) times        \n",
    "        for j in range(resample_time-1):\n",
    "            # add new points with NaNs except the date \n",
    "            new_date = pd.to_datetime(\"2010-01-01\") + np.timedelta64(num_resample*5,'M')\n",
    "            new = [new_date,PTID_Key,np.nan,np.nan,np.nan,np.nan,np.nan,np.nan,np.nan]\n",
    "            patient.loc[len(patient)] = new\n",
    "            num_resample += 1\n",
    "            \n",
    "        # resample the date of the existing point \n",
    "        patient.iloc[i+1,-1] = patient.iloc[i+1,0]  # remember the orig date\n",
    "        patient.iloc[i+1,0] = pd.to_datetime(\"2010-01-01\") + np.timedelta64(num_resample*5,'M') # resample date\n",
    "        num_resample += 1     \n",
    "    \n",
    "    # sort again after resampling\n",
    "    output = patient.reset_index(drop=True)\n",
    "    output = output.sort_values(by='Date') \n",
    "    \n",
    "    # interpolations\n",
    "    output.iloc[:,5:8] = output.iloc[:,5:8].interpolate(method = \"linear\").bfill()\n",
    "    output.iloc[:,5:8] = output.iloc[:,5:8].interpolate(method = \"linear\").ffill()\n",
    "    output.iloc[:,2:5] = output.iloc[:,2:5].bfill()\n",
    "    output.iloc[:,2:5] = output.iloc[:,2:5].ffill()\n",
    "    \n",
    "    #If there is still missing value, fill it with the average of raw data\n",
    "    output.iloc[:,5:8] = output.iloc[:,5:8].fillna(raw_data.iloc[:,5:8].mean())\n",
    "    # For categorical data, NAN = 0\n",
    "    output.iloc[:,2:5] = output.iloc[:,2:5].replace(np.NaN, 0)\n",
    "    \n",
    "    resampled.append(output)\n",
    "    \n",
    "resampled = pd.concat(resampled)\n",
    "resampled = resampled.reset_index(drop=True)\n",
    "            "
   ]
  },
  {
   "cell_type": "markdown",
   "metadata": {},
   "source": [
    "### converting resampled data back to original format"
   ]
  },
  {
   "cell_type": "code",
   "execution_count": null,
   "metadata": {
    "collapsed": true
   },
   "outputs": [],
   "source": [
    "resampled.iloc[:,0] = orig_dates\n",
    "resampled = resampled.dropna()"
   ]
  },
  {
   "cell_type": "code",
   "execution_count": null,
   "metadata": {
    "collapsed": true
   },
   "outputs": [],
   "source": [
    "get_origDates(resampled, orig_dates)"
   ]
  },
  {
   "cell_type": "code",
   "execution_count": null,
   "metadata": {},
   "outputs": [],
   "source": [
    "resampled"
   ]
  },
  {
   "cell_type": "code",
   "execution_count": null,
   "metadata": {
    "collapsed": true
   },
   "outputs": [],
   "source": []
  }
 ],
 "metadata": {
  "kernelspec": {
   "display_name": "Python 3",
   "language": "python",
   "name": "python3"
  },
  "language_info": {
   "codemirror_mode": {
    "name": "ipython",
    "version": 3
   },
   "file_extension": ".py",
   "mimetype": "text/x-python",
   "name": "python",
   "nbconvert_exporter": "python",
   "pygments_lexer": "ipython3",
   "version": "3.5.3"
  }
 },
 "nbformat": 4,
 "nbformat_minor": 2
}
